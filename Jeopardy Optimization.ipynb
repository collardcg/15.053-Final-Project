{
 "cells": [
  {
   "cell_type": "code",
   "execution_count": 7,
   "metadata": {},
   "outputs": [
    {
     "output_type": "stream",
     "name": "stdout",
     "text": [
      "Academic license - for non-commercial use only - expires 2021-04-30\n"
     ]
    },
    {
     "output_type": "execute_result",
     "data": {
      "text/plain": [
       "10 x[1] + 20 x[2] + 8 x[3] + 4 x[4] + 15 x[5] + 30 x[6] + 18 x[7]"
      ],
      "text/latex": "$$ 10 x_{1} + 20 x_{2} + 8 x_{3} + 4 x_{4} + 15 x_{5} + 30 x_{6} + 18 x_{7} $$"
     },
     "metadata": {},
     "execution_count": 7
    }
   ],
   "source": [
    "using JuMP, Gurobi\n",
    "\n",
    "jeopardy =  Model(with_optimizer(Gurobi.Optimizer))\n",
    "\n",
    "@variable(jeopardy, )\n",
    "\n",
    "@constraints(jeopardy) begin\n",
    "\n",
    "@objective(jeopardy, )\n",
    "\n",
    "\n"
   ]
  },
  {
   "cell_type": "code",
   "execution_count": null,
   "metadata": {},
   "outputs": [],
   "source": []
  }
 ],
 "metadata": {
  "kernelspec": {
   "display_name": "Julia 1.5.1",
   "language": "julia",
   "name": "julia-1.5"
  },
  "language_info": {
   "file_extension": ".jl",
   "mimetype": "application/julia",
   "name": "julia",
   "version": "1.5.1"
  }
 },
 "nbformat": 4,
 "nbformat_minor": 4
}