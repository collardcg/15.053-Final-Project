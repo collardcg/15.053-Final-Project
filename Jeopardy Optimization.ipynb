{
 "cells": [
  {
   "cell_type": "code",
   "execution_count": 7,
   "metadata": {},
   "outputs": [
    {
     "output_type": "stream",
     "name": "stdout",
     "text": [
      "Academic license - for non-commercial use only - expires 2021-04-30\n"
     ]
    },
    {
     "output_type": "execute_result",
     "data": {
      "text/plain": [
       "10 x[1] + 20 x[2] + 8 x[3] + 4 x[4] + 15 x[5] + 30 x[6] + 18 x[7]"
      ],
      "text/latex": "$$ 10 x_{1} + 20 x_{2} + 8 x_{3} + 4 x_{4} + 15 x_{5} + 30 x_{6} + 18 x_{7} $$"
     },
     "metadata": {},
     "execution_count": 7
    }
   ],
   "source": [
    "using JuMP, Gurobi\n",
    "\n",
    "# write Julia/JuMP code to describe the integer program\n",
    "auction =  Model(with_optimizer(Gurobi.Optimizer))\n",
    "\n",
    "@variable(auction, x[1:7], Bin)\n",
    "\n",
    "@constraint(auction, x[1] + x[2] + x[7] <= 2)\n",
    "@constraint(auction, x[2] + x[5] + x[6] + x[7] <= 3)\n",
    "@constraint(auction, x[3] + x[6] + x[7] <= 1)\n",
    "@constraint(auction, x[2] + x[5] + x[6] <= 1)\n",
    "@constraint(auction, x[1] + x[4] + x[6] <= 1)\n",
    "\n",
    "@objective(auction, Max, 10*x[1] + 20*x[2] + 8*x[3] + 4*x[4] + 15*x[5] + 30*x[6] + 18*x[7])\n",
    "\n",
    "\n"
   ]
  },
  {
   "cell_type": "code",
   "execution_count": null,
   "metadata": {},
   "outputs": [],
   "source": []
  }
 ],
 "metadata": {
  "kernelspec": {
   "display_name": "Julia 1.5.1",
   "language": "julia",
   "name": "julia-1.5"
  },
  "language_info": {
   "file_extension": ".jl",
   "mimetype": "application/julia",
   "name": "julia",
   "version": "1.5.1"
  }
 },
 "nbformat": 4,
 "nbformat_minor": 4
}