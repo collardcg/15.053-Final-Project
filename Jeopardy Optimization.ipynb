{
 "cells": [
  {
   "cell_type": "code",
   "execution_count": 23,
   "metadata": {},
   "outputs": [
    {
     "data": {
      "text/plain": [
       "jeopardy_win (generic function with 1 method)"
      ]
     },
     "execution_count": 23,
     "metadata": {},
     "output_type": "execute_result"
    }
   ],
   "source": [
    "#= \n",
    "Here, we define a function to calculate the probability of player A winning final jeopardy, \n",
    "given the money each player starts with, the probability of each player correctly answering the final jeopardy, \n",
    "and the amount each player chooses to wager. \n",
    "=#\n",
    "\n",
    "function jeopardy_win(C, D, P, Q, wager_amt_A, wager_amt_B)\n",
    "   winprob = 0\n",
    "    if (C + wager_amt_A) - (D + wager_amt_B) > 0\n",
    "        winprob += P*Q\n",
    "    end\n",
    "    if (C + wager_amt_A) - (D - wager_amt_B) > 0\n",
    "        winprob += P * (1-Q)\n",
    "    end\n",
    "    if (C - wager_amt_A) - (D + wager_amt_B) > 0\n",
    "        winprob += (1-P) * Q\n",
    "    end\n",
    "    if (C - wager_amt_A) - (D - wager_amt_B) > 0\n",
    "        winprob += (1-P) * (1-Q)\n",
    "    end\n",
    "    if (C + wager_amt_A) - (D + wager_amt_B) == 0\n",
    "        winprob += P*Q/2\n",
    "    end\n",
    "    if (C + wager_amt_A) - (D - wager_amt_B) == 0\n",
    "        winprob += P * (1-Q)/2\n",
    "    end\n",
    "    if (C - wager_amt_A) - (D + wager_amt_B) == 0\n",
    "        winprob += (1-P) * Q/2\n",
    "    end\n",
    "    if (C - wager_amt_A) - (D - wager_amt_B) == 0\n",
    "        winprob += (1-P) * (1-Q)/2\n",
    "    end\n",
    "    return winprob\n",
    "end"
   ]
  },
  {
   "cell_type": "code",
   "execution_count": 24,
   "metadata": {},
   "outputs": [
    {
     "name": "stdout",
     "output_type": "stream",
     "text": [
      "Float32[1.0 0.8 0.6 0.6; 0.8 0.84 0.72 0.6; 0.6 0.72 0.84 0.72; 0.6 0.6 0.72 0.84; 0.6 0.6 0.6 0.72]"
     ]
    }
   ],
   "source": [
    "#= \n",
    "Next, we use the jeopardy_win() funtion to create a payoff matrix of the probability Player A wins for every \n",
    "combination of Player A and Player B wagers.\n",
    "=#\n",
    "\n",
    "function prob_space(C, D, P, Q)\n",
    "    probspace = zeros(Float32, floor(Int, C/250+1), floor(Int, D/250+1))\n",
    "    for Abet in 1:floor(Int, C/250+1)\n",
    "       for Bbet in 1:floor(Int, D/250+1)\n",
    "            probspace[Abet, Bbet] = jeopardy_win(C,D,P,Q,(Abet-1)*250,(Bbet-1)*250)\n",
    "        end\n",
    "    end\n",
    "    return probspace\n",
    "end\n",
    "\n",
    "print(prob_space(1000,750,.6,.4))"
   ]
  },
  {
   "cell_type": "code",
   "execution_count": 26,
   "metadata": {},
   "outputs": [
    {
     "name": "stdout",
     "output_type": "stream",
     "text": [
      "Academic license - for non-commercial use only - expires 2021-07-11\r\n"
     ]
    },
    {
     "data": {
      "text/latex": [
       "$$ z $$"
      ],
      "text/plain": [
       "z"
      ]
     },
     "execution_count": 26,
     "metadata": {},
     "output_type": "execute_result"
    }
   ],
   "source": [
    "#=\n",
    "After that, we create an optimization model to determine a mixed strategy of wager amounts for Player A \n",
    "given the payoff matrix from the prob_space() function.\n",
    "=#\n",
    "\n",
    "C = 1000\n",
    "D = 750\n",
    "P = 0.6\n",
    "Q = 0.4\n",
    "prob = prob_space(C, D, P, Q)\n",
    "\n",
    "k = floor(Int, C/250 +1)\n",
    "m = floor(Int, D/250 + 1)\n",
    "\n",
    "using JuMP, Gurobi\n",
    "\n",
    "jeopardy =  Model(with_optimizer(Gurobi.Optimizer))\n",
    "\n",
    "@variable(jeopardy, x[1:k] >= 0)\n",
    "@variable(jeopardy, z)\n",
    "\n",
    "@constraint(jeopardy, [j = 1:m], sum(prob[a, j]*x[a] for a in 1:k) >= z)\n",
    "@constraint(jeopardy, sum(x[a] for a in 1:k) == 1)\n",
    "\n",
    "@objective(jeopardy, Max, z)"
   ]
  },
  {
   "cell_type": "code",
   "execution_count": 49,
   "metadata": {},
   "outputs": [
    {
     "name": "stdout",
     "output_type": "stream",
     "text": [
      "Gurobi Optimizer version 9.1.1 build v9.1.1rc0 (win64)\r\n",
      "Thread count: 6 physical cores, 12 logical processors, using up to 12 threads\r\n",
      "Optimize a model with 5 rows, 6 columns and 29 nonzeros\r\n",
      "Coefficient statistics:\r\n",
      "  Matrix range     [6e-01, 1e+00]\r\n",
      "  Objective range  [1e+00, 1e+00]\r\n",
      "  Bounds range     [0e+00, 0e+00]\r\n",
      "  RHS range        [1e+00, 1e+00]\r\n",
      "\r\n",
      "Solved in 0 iterations and 0.00 seconds\r\n",
      "Optimal objective  7.173913122e-01\r\n",
      "\r\n",
      "User-callback calls 321, time in user-callback 0.01 sec\r\n",
      "objective_value(jeopardy) = 0.7173913121786754\n"
     ]
    },
    {
     "data": {
      "text/html": [
       "<table class=\"data-frame\"><thead><tr><th></th><th>Wager</th><th>Strategy</th></tr><tr><th></th><th>Int64</th><th>Float32</th></tr></thead><tbody><p>5 rows × 2 columns</p><tr><th>1</th><td>0</td><td>0.130435</td></tr><tr><th>2</th><td>250</td><td>0.326087</td></tr><tr><th>3</th><td>500</td><td>0.108695</td></tr><tr><th>4</th><td>750</td><td>0.434783</td></tr><tr><th>5</th><td>1000</td><td>0.0</td></tr></tbody></table>"
      ],
      "text/latex": [
       "\\begin{tabular}{r|cc}\n",
       "\t& Wager & Strategy\\\\\n",
       "\t\\hline\n",
       "\t& Int64 & Float32\\\\\n",
       "\t\\hline\n",
       "\t1 & 0 & 0.130435 \\\\\n",
       "\t2 & 250 & 0.326087 \\\\\n",
       "\t3 & 500 & 0.108695 \\\\\n",
       "\t4 & 750 & 0.434783 \\\\\n",
       "\t5 & 1000 & 0.0 \\\\\n",
       "\\end{tabular}\n"
      ],
      "text/plain": [
       "\u001b[1m5×2 DataFrame\u001b[0m\n",
       "\u001b[1m Row \u001b[0m│\u001b[1m Wager \u001b[0m\u001b[1m Strategy \u001b[0m\n",
       "\u001b[1m     \u001b[0m│\u001b[90m Int64 \u001b[0m\u001b[90m Float32  \u001b[0m\n",
       "─────┼─────────────────\n",
       "   1 │     0  0.130435\n",
       "   2 │   250  0.326087\n",
       "   3 │   500  0.108695\n",
       "   4 │   750  0.434783\n",
       "   5 │  1000  0.0"
      ]
     },
     "execution_count": 49,
     "metadata": {},
     "output_type": "execute_result"
    }
   ],
   "source": [
    "#=\n",
    "Finally, we optimize our jeopardy model and return the optimal mixed strategy for Player A.\n",
    "=#\n",
    "\n",
    "using JuMP, Gurobi, DataFrames\n",
    "optimize!(jeopardy)\n",
    "\n",
    "strategy = DataFrame(Wager = Int[], Strategy = Float32[])\n",
    "\n",
    "@show objective_value(jeopardy)\n",
    "\n",
    "for i in 1:k\n",
    "    push!(strategy, [(250*(i-1)), value(x[i])])\n",
    "end\n",
    "\n",
    "strategy"
   ]
  }
 ],
 "metadata": {
  "kernelspec": {
   "display_name": "Julia 1.5.3",
   "language": "julia",
   "name": "julia-1.5"
  },
  "language_info": {
   "file_extension": ".jl",
   "mimetype": "application/julia",
   "name": "julia",
   "version": "1.5.3"
  }
 },
 "nbformat": 4,
 "nbformat_minor": 4
}
