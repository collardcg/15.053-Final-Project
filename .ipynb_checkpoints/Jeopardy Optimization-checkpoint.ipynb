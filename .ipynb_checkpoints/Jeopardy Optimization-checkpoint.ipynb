{
 "cells": [
  {
   "cell_type": "code",
   "execution_count": 28,
   "metadata": {},
   "outputs": [
    {
     "data": {
      "text/plain": [
       "jeopardy_win (generic function with 1 method)"
      ]
     },
     "execution_count": 28,
     "metadata": {},
     "output_type": "execute_result"
    }
   ],
   "source": [
    "function jeopardy_win(C, D, P, Q, wager_amt_A, wager_amt_B)\n",
    "   winprob = 0\n",
    "    if (C + wager_amt_A) - (D + wager_amt_B) > 0\n",
    "        winprob += P*Q\n",
    "    end\n",
    "    if (C + wager_amt_A) - (D - wager_amt_B) > 0\n",
    "        winprob += P * (1-Q)\n",
    "    end\n",
    "    if (C - wager_amt_A) - (D + wager_amt_B) > 0\n",
    "        winprob += (1-P) * Q\n",
    "    end\n",
    "    if (C - wager_amt_A) - (D - wager_amt_B) > 0\n",
    "        winprob += (1-P) * (1-Q)\n",
    "    end\n",
    "    if (C + wager_amt_A) - (D + wager_amt_B) == 0\n",
    "        winprob += P*Q/2\n",
    "    end\n",
    "    if (C + wager_amt_A) - (D - wager_amt_B) == 0\n",
    "        winprob += P * (1-Q)/2\n",
    "    end\n",
    "    if (C - wager_amt_A) - (D + wager_amt_B) == 0\n",
    "        winprob += (1-P) * Q/2\n",
    "    end\n",
    "    if (C - wager_amt_A) - (D - wager_amt_B) == 0\n",
    "        winprob += (1-P) * (1-Q)/2\n",
    "    end\n",
    "    return winprob\n",
    "end"
   ]
  },
  {
   "cell_type": "code",
   "execution_count": 29,
   "metadata": {},
   "outputs": [
    {
     "name": "stdout",
     "output_type": "stream",
     "text": [
      "Float32[0.5 0.6 0.6; 0.6 0.6 0.6; 0.6 0.6 0.6]"
     ]
    }
   ],
   "source": [
    "function prob_space(C, D, P, Q)\n",
    "    probspace = zeros(Float32, floor(Int, C/250+1), floor(Int, D/250+1))\n",
    "    for Abet in 1:floor(Int, C/250+1)\n",
    "       for Bbet in 1:floor(Int, D/250+1)\n",
    "            probspace[Abet, Bbet] = jeopardy_win(C,D,P,Q,(Abet-1)*250,(Bbet-1)*250)\n",
    "        end\n",
    "    end\n",
    "    return probspace\n",
    "end\n",
    "\n",
    "print(prob_space(500,500,.6,.4))"
   ]
  },
  {
   "cell_type": "code",
   "execution_count": null,
   "metadata": {},
   "outputs": [],
   "source": [
    "using JuMP, Gurobi\n",
    "\n",
    "jeopardy =  Model(with_optimizer(Gurobi.Optimizer))\n",
    "\n",
    "@variable(jeopardy, )\n",
    "\n",
    "@constraints(jeopardy) begin\n",
    "\n",
    "@objective(jeopardy, )"
   ]
  }
 ],
 "metadata": {
  "kernelspec": {
   "display_name": "Julia 1.5.3",
   "language": "julia",
   "name": "julia-1.5"
  },
  "language_info": {
   "file_extension": ".jl",
   "mimetype": "application/julia",
   "name": "julia",
   "version": "1.5.3"
  }
 },
 "nbformat": 4,
 "nbformat_minor": 4
}
