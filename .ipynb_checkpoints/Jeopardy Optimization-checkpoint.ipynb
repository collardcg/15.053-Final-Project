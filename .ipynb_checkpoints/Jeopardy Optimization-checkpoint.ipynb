{
 "cells": [
  {
   "cell_type": "code",
   "execution_count": 7,
   "metadata": {},
   "outputs": [
    {
     "name": "stdout",
     "output_type": "stream",
     "text": [
      "Academic license - for non-commercial use only - expires 2021-04-30\n"
     ]
    },
    {
     "data": {
      "text/latex": [
       "$$ 10 x_{1} + 20 x_{2} + 8 x_{3} + 4 x_{4} + 15 x_{5} + 30 x_{6} + 18 x_{7} $$"
      ],
      "text/plain": [
       "10 x[1] + 20 x[2] + 8 x[3] + 4 x[4] + 15 x[5] + 30 x[6] + 18 x[7]"
      ]
     },
     "execution_count": 7,
     "metadata": {},
     "output_type": "execute_result"
    }
   ],
   "source": [
    "using JuMP, Gurobi\n",
    "\n",
    "jeopardy =  Model(with_optimizer(Gurobi.Optimizer))\n",
    "\n",
    "@variable(jeopardy, )\n",
    "\n",
    "@constraints(jeopardy) begin\n",
    "\n",
    "@objective(jeopardy, )\n",
    "\n",
    "\n"
   ]
  },
  {
   "cell_type": "code",
   "execution_count": null,
   "metadata": {},
   "outputs": [],
   "source": []
  },
  {
   "cell_type": "code",
   "execution_count": 6,
   "metadata": {},
   "outputs": [
    {
     "name": "stdout",
     "output_type": "stream",
     "text": [
      "0.36"
     ]
    }
   ],
   "source": [
    "function jeopardy_win(C, D, P, Q, wager_amt_A, wager_amt_B)\n",
    "   winprob = 0\n",
    "    if (C + wager_amt_A) - (D + wager_amt_B) > 0\n",
    "        winprob += P*Q\n",
    "    elseif (C + wager_amt_A) - (D - wager_amt_B) > 0\n",
    "        winprob += P * (1-Q)\n",
    "    elseif (C - wager_amt_A) - (D + wager_amt_B) > 0\n",
    "        winprob += (1-P) * Q\n",
    "    elseif (C - wager_amt_A) - (D - wager_amt_B) > 0\n",
    "        winprob += (1-P) * (1-Q)\n",
    "    elseif (C + wager_amt_A) - (D + wager_amt_B) == 0\n",
    "        winprob += P*Q/2\n",
    "    elseif (C + wager_amt_A) - (D - wager_amt_B) == 0\n",
    "        winprob += P * (1-Q)/2\n",
    "    elseif (C - wager_amt_A) - (D + wager_amt_B) == 0\n",
    "        winprob += (1-P) * Q/2\n",
    "    elseif (C - wager_amt_A) - (D - wager_amt_B) == 0\n",
    "        winprob += (1-P) * (1-Q)/2\n",
    "    end\n",
    "    return winprob\n",
    "end\n",
    "    \n",
    "print(jeopardy_win(12000,4000,0.6,0.6,0,4000))"
   ]
  },
  {
   "cell_type": "code",
   "execution_count": null,
   "metadata": {},
   "outputs": [],
   "source": []
  }
 ],
 "metadata": {
  "kernelspec": {
   "display_name": "Julia 1.5.3",
   "language": "julia",
   "name": "julia-1.5"
  },
  "language_info": {
   "file_extension": ".jl",
   "mimetype": "application/julia",
   "name": "julia",
   "version": "1.5.3"
  }
 },
 "nbformat": 4,
 "nbformat_minor": 4
}
